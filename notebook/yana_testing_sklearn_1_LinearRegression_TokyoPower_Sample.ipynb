{
  "nbformat": 4,
  "nbformat_minor": 0,
  "metadata": {
    "colab": {
      "name": "yana-testing_sklearn-1_LinearRegression_TokyoPower_Sample.ipynb",
      "version": "0.3.2",
      "provenance": [],
      "collapsed_sections": [],
      "include_colab_link": true
    },
    "kernelspec": {
      "name": "python3",
      "display_name": "Python 3"
    }
  },
  "cells": [
    {
      "cell_type": "markdown",
      "metadata": {
        "id": "view-in-github",
        "colab_type": "text"
      },
      "source": [
        "<a href=\"https://colab.research.google.com/github/gh-yana/testing1/blob/master/yana_testing_sklearn_1_LinearRegression_TokyoPower_Sample.ipynb\" target=\"_parent\"><img src=\"https://colab.research.google.com/assets/colab-badge.svg\" alt=\"Open In Colab\"/></a>"
      ]
    },
    {
      "cell_type": "markdown",
      "metadata": {
        "id": "LCh8DIGyR47k",
        "colab_type": "text"
      },
      "source": [
        "# scikit-learn(sklearn)で東京電力の電力需要を重回帰予測する\n",
        "## ～ReNom RG＜ Graph-CNN モデル＞と重回帰の比較実験～"
      ]
    },
    {
      "cell_type": "markdown",
      "metadata": {
        "id": "nQUeKpR4Tr_g",
        "colab_type": "text"
      },
      "source": [
        "### 本例で用いる学習データの所在\n",
        "\n",
        "*   **東京電力「過去の電力使用実績のダウンロード」**[ここから入手](http://www.tepco.co.jp/forecast/html/download-j.html)\n",
        "*   **気象庁「過去の気象データ・ダウンロード」**[ここから入手](https://www.data.jma.go.jp/gmd/risk/obsdl/index.php)\n"
      ]
    },
    {
      "cell_type": "markdown",
      "metadata": {
        "id": "8hJU69c7cI2E",
        "colab_type": "text"
      },
      "source": [
        "### GoogleドライブからColaboratoryへのデータコピー（事前準備）"
      ]
    },
    {
      "cell_type": "code",
      "metadata": {
        "id": "YxjkFGoj--pO",
        "colab_type": "code",
        "colab": {}
      },
      "source": [
        "!!pip install -U -q PyDrive"
      ],
      "execution_count": 0,
      "outputs": []
    },
    {
      "cell_type": "code",
      "metadata": {
        "id": "fhC_lQLK_JBw",
        "colab_type": "code",
        "colab": {}
      },
      "source": [
        "# Google Driveアクセス準備\n",
        "from pydrive.auth import GoogleAuth\n",
        "from pydrive.drive import GoogleDrive\n",
        "from google.colab import auth\n",
        "from oauth2client.client import GoogleCredentials\n",
        "auth.authenticate_user()\n",
        "gauth = GoogleAuth()\n",
        "gauth.credentials = GoogleCredentials.get_application_default()\n",
        "drive = GoogleDrive(gauth)"
      ],
      "execution_count": 0,
      "outputs": []
    },
    {
      "cell_type": "code",
      "metadata": {
        "id": "rknDDoo-_UfO",
        "colab_type": "code",
        "colab": {}
      },
      "source": [
        "# Google Driveからのコピー\n",
        "id = '1rVv9OxeT66N_tTz8IJ1IjSjwkJU46G7U'  # 共有リンクで取得した id= より後の部分\n",
        "downloaded = drive.CreateFile({'id': id})\n",
        "downloaded.GetContentFile('Tokyo_Power_weather_2017-2018_sample_new2.csv')\n",
        "id = '1trUd87JbzwiE5Mu4ui_3xX7koyGFLhBK'  # 共有リンクで取得した id= より後の部分\n",
        "downloaded = drive.CreateFile({'id': id})\n",
        "downloaded.GetContentFile('Tokyo_Power_weather_Predict_sample_new2.csv')\n",
        "# 終わったら、ファイル画面の更新をして確認"
      ],
      "execution_count": 0,
      "outputs": []
    },
    {
      "cell_type": "markdown",
      "metadata": {
        "colab_type": "text",
        "id": "MioxKXnvVev-"
      },
      "source": [
        "### データ準備"
      ]
    },
    {
      "cell_type": "markdown",
      "metadata": {
        "id": "4usIk3RPAsVU",
        "colab_type": "text"
      },
      "source": [
        "学習データの準備\n",
        "\n",
        "本例では2017/1/1～2018/12/31の東京電力_電力実績と気象庁データ(気温/降水量/日照時間/風速など)の結合データ(CSV)を使用\n",
        "\n",
        "　データフレーム名　**train_df** ：Tokyo_Power_Weather_2017-2018_sample_new2.csvをPandasで格納"
      ]
    },
    {
      "cell_type": "code",
      "metadata": {
        "id": "X30hSYCqANR_",
        "colab_type": "code",
        "outputId": "937b07f7-0ceb-4c95-c38d-cb5ef741b847",
        "colab": {
          "base_uri": "https://localhost:8080/",
          "height": 204
        }
      },
      "source": [
        "import pandas as pd #pandasをpdとしてインポート。データをdfに読み込み。pandasをpdとして利用。\n",
        "train_df = pd.read_csv(\"Tokyo_Power_weather_2017-2018_sample_new2.csv\", encoding=\"utf_8\")\n",
        "train_df.head(5)    #データフレームの表示（先頭5行表示）"
      ],
      "execution_count": 0,
      "outputs": [
        {
          "output_type": "execute_result",
          "data": {
            "text/html": [
              "<div>\n",
              "<style scoped>\n",
              "    .dataframe tbody tr th:only-of-type {\n",
              "        vertical-align: middle;\n",
              "    }\n",
              "\n",
              "    .dataframe tbody tr th {\n",
              "        vertical-align: top;\n",
              "    }\n",
              "\n",
              "    .dataframe thead th {\n",
              "        text-align: right;\n",
              "    }\n",
              "</style>\n",
              "<table border=\"1\" class=\"dataframe\">\n",
              "  <thead>\n",
              "    <tr style=\"text-align: right;\">\n",
              "      <th></th>\n",
              "      <th>DATE</th>\n",
              "      <th>TIME_hh</th>\n",
              "      <th>TIME_mm</th>\n",
              "      <th>Man_kW</th>\n",
              "      <th>Temp_C</th>\n",
              "      <th>Sun_h</th>\n",
              "      <th>Wind_m_par_S</th>\n",
              "      <th>Rain_mm</th>\n",
              "    </tr>\n",
              "  </thead>\n",
              "  <tbody>\n",
              "    <tr>\n",
              "      <th>0</th>\n",
              "      <td>2017/1/1</td>\n",
              "      <td>1</td>\n",
              "      <td>0</td>\n",
              "      <td>2634</td>\n",
              "      <td>5.1</td>\n",
              "      <td>0.0</td>\n",
              "      <td>3.5</td>\n",
              "      <td>0.0</td>\n",
              "    </tr>\n",
              "    <tr>\n",
              "      <th>1</th>\n",
              "      <td>2017/1/1</td>\n",
              "      <td>2</td>\n",
              "      <td>0</td>\n",
              "      <td>2520</td>\n",
              "      <td>4.1</td>\n",
              "      <td>0.0</td>\n",
              "      <td>1.7</td>\n",
              "      <td>0.0</td>\n",
              "    </tr>\n",
              "    <tr>\n",
              "      <th>2</th>\n",
              "      <td>2017/1/1</td>\n",
              "      <td>3</td>\n",
              "      <td>0</td>\n",
              "      <td>2438</td>\n",
              "      <td>4.0</td>\n",
              "      <td>0.0</td>\n",
              "      <td>1.5</td>\n",
              "      <td>0.0</td>\n",
              "    </tr>\n",
              "    <tr>\n",
              "      <th>3</th>\n",
              "      <td>2017/1/1</td>\n",
              "      <td>4</td>\n",
              "      <td>0</td>\n",
              "      <td>2389</td>\n",
              "      <td>3.0</td>\n",
              "      <td>0.0</td>\n",
              "      <td>1.0</td>\n",
              "      <td>0.0</td>\n",
              "    </tr>\n",
              "    <tr>\n",
              "      <th>4</th>\n",
              "      <td>2017/1/1</td>\n",
              "      <td>5</td>\n",
              "      <td>0</td>\n",
              "      <td>2394</td>\n",
              "      <td>3.6</td>\n",
              "      <td>0.0</td>\n",
              "      <td>2.2</td>\n",
              "      <td>0.0</td>\n",
              "    </tr>\n",
              "  </tbody>\n",
              "</table>\n",
              "</div>"
            ],
            "text/plain": [
              "       DATE  TIME_hh  TIME_mm  Man_kW  Temp_C  Sun_h  Wind_m_par_S  Rain_mm\n",
              "0  2017/1/1        1        0    2634     5.1    0.0           3.5      0.0\n",
              "1  2017/1/1        2        0    2520     4.1    0.0           1.7      0.0\n",
              "2  2017/1/1        3        0    2438     4.0    0.0           1.5      0.0\n",
              "3  2017/1/1        4        0    2389     3.0    0.0           1.0      0.0\n",
              "4  2017/1/1        5        0    2394     3.6    0.0           2.2      0.0"
            ]
          },
          "metadata": {
            "tags": []
          },
          "execution_count": 4
        }
      ]
    },
    {
      "cell_type": "markdown",
      "metadata": {
        "id": "Rqk89du0EE7N",
        "colab_type": "text"
      },
      "source": [
        "【参考】データサンプルのカラム説明（レコード数は17,506） \n",
        "\n",
        "**DATE**:年月日(東電)、**TIME_hh**:時間(東電)、**TIME_mm**:分(東電)、**Man_kW**:電力量　万キロワット(東電)**←今回の目的変数**、\n",
        "\n",
        "**Temp_C**:気温　℃(気象庁)、**Sun_h**:日照時間　時間(気象庁)、**Wind_m_par_S**:風速　m/秒(気象庁)、**Rain_mm**:降水量　mm(気象庁)\n"
      ]
    },
    {
      "cell_type": "code",
      "metadata": {
        "id": "0Xb9-ot8ApYk",
        "colab_type": "code",
        "outputId": "04afac18-5ae4-4e34-b0dc-14d026251b3b",
        "colab": {
          "base_uri": "https://localhost:8080/",
          "height": 204
        }
      },
      "source": [
        "# 不要カラムの削除（今回はDATEとTIME_mmを削除）\n",
        "train_df = train_df.drop(\"DATE\",axis=1)\n",
        "train_df = train_df.drop(\"TIME_mm\",axis=1)\n",
        "train_df.head(5)    #不要カラム削除後のデータフレーム表示（先頭5行表示）"
      ],
      "execution_count": 0,
      "outputs": [
        {
          "output_type": "execute_result",
          "data": {
            "text/html": [
              "<div>\n",
              "<style scoped>\n",
              "    .dataframe tbody tr th:only-of-type {\n",
              "        vertical-align: middle;\n",
              "    }\n",
              "\n",
              "    .dataframe tbody tr th {\n",
              "        vertical-align: top;\n",
              "    }\n",
              "\n",
              "    .dataframe thead th {\n",
              "        text-align: right;\n",
              "    }\n",
              "</style>\n",
              "<table border=\"1\" class=\"dataframe\">\n",
              "  <thead>\n",
              "    <tr style=\"text-align: right;\">\n",
              "      <th></th>\n",
              "      <th>TIME_hh</th>\n",
              "      <th>Man_kW</th>\n",
              "      <th>Temp_C</th>\n",
              "      <th>Sun_h</th>\n",
              "      <th>Wind_m_par_S</th>\n",
              "      <th>Rain_mm</th>\n",
              "    </tr>\n",
              "  </thead>\n",
              "  <tbody>\n",
              "    <tr>\n",
              "      <th>0</th>\n",
              "      <td>1</td>\n",
              "      <td>2634</td>\n",
              "      <td>5.1</td>\n",
              "      <td>0.0</td>\n",
              "      <td>3.5</td>\n",
              "      <td>0.0</td>\n",
              "    </tr>\n",
              "    <tr>\n",
              "      <th>1</th>\n",
              "      <td>2</td>\n",
              "      <td>2520</td>\n",
              "      <td>4.1</td>\n",
              "      <td>0.0</td>\n",
              "      <td>1.7</td>\n",
              "      <td>0.0</td>\n",
              "    </tr>\n",
              "    <tr>\n",
              "      <th>2</th>\n",
              "      <td>3</td>\n",
              "      <td>2438</td>\n",
              "      <td>4.0</td>\n",
              "      <td>0.0</td>\n",
              "      <td>1.5</td>\n",
              "      <td>0.0</td>\n",
              "    </tr>\n",
              "    <tr>\n",
              "      <th>3</th>\n",
              "      <td>4</td>\n",
              "      <td>2389</td>\n",
              "      <td>3.0</td>\n",
              "      <td>0.0</td>\n",
              "      <td>1.0</td>\n",
              "      <td>0.0</td>\n",
              "    </tr>\n",
              "    <tr>\n",
              "      <th>4</th>\n",
              "      <td>5</td>\n",
              "      <td>2394</td>\n",
              "      <td>3.6</td>\n",
              "      <td>0.0</td>\n",
              "      <td>2.2</td>\n",
              "      <td>0.0</td>\n",
              "    </tr>\n",
              "  </tbody>\n",
              "</table>\n",
              "</div>"
            ],
            "text/plain": [
              "   TIME_hh  Man_kW  Temp_C  Sun_h  Wind_m_par_S  Rain_mm\n",
              "0        1    2634     5.1    0.0           3.5      0.0\n",
              "1        2    2520     4.1    0.0           1.7      0.0\n",
              "2        3    2438     4.0    0.0           1.5      0.0\n",
              "3        4    2389     3.0    0.0           1.0      0.0\n",
              "4        5    2394     3.6    0.0           2.2      0.0"
            ]
          },
          "metadata": {
            "tags": []
          },
          "execution_count": 5
        }
      ]
    },
    {
      "cell_type": "code",
      "metadata": {
        "id": "M-dMiPM6XiUo",
        "colab_type": "code",
        "outputId": "9d0c1d90-859f-40ae-a1ae-6b8b5c9f8b95",
        "colab": {
          "base_uri": "https://localhost:8080/",
          "height": 170
        }
      },
      "source": [
        "# 説明変数Ｘの準備\n",
        "X = train_df\n",
        "X = X.drop(\"Man_kW\", axis=1)    # 目的変数のMan_kWを削除\n",
        "print(X.describe())   # Ｘの概要（最大値/標準偏差/最小値等々）"
      ],
      "execution_count": 0,
      "outputs": [
        {
          "output_type": "stream",
          "text": [
            "            TIME_hh        Temp_C         Sun_h  Wind_m_par_S       Rain_mm\n",
            "count  17506.000000  17506.000000  17506.000000  17506.000000  17506.000000\n",
            "mean      11.503713     16.349360      0.237770      2.918565      0.164258\n",
            "std        6.923247      8.477713      0.389792      1.507695      0.912790\n",
            "min        0.000000     -3.600000      0.000000      0.000000      0.000000\n",
            "25%        6.000000      9.000000      0.000000      1.800000      0.000000\n",
            "50%       12.000000     16.700000      0.000000      2.600000      0.000000\n",
            "75%       18.000000     23.100000      0.400000      3.700000      0.000000\n",
            "max       23.000000     37.400000      1.000000     15.300000     20.500000\n"
          ],
          "name": "stdout"
        }
      ]
    },
    {
      "cell_type": "code",
      "metadata": {
        "id": "V25vRSGNXiDP",
        "colab_type": "code",
        "outputId": "623e816a-1abf-4b38-f0c3-e615e83f4611",
        "colab": {
          "base_uri": "https://localhost:8080/",
          "height": 204
        }
      },
      "source": [
        "X.head(5)  # Ｘの表示（先頭5行）"
      ],
      "execution_count": 0,
      "outputs": [
        {
          "output_type": "execute_result",
          "data": {
            "text/html": [
              "<div>\n",
              "<style scoped>\n",
              "    .dataframe tbody tr th:only-of-type {\n",
              "        vertical-align: middle;\n",
              "    }\n",
              "\n",
              "    .dataframe tbody tr th {\n",
              "        vertical-align: top;\n",
              "    }\n",
              "\n",
              "    .dataframe thead th {\n",
              "        text-align: right;\n",
              "    }\n",
              "</style>\n",
              "<table border=\"1\" class=\"dataframe\">\n",
              "  <thead>\n",
              "    <tr style=\"text-align: right;\">\n",
              "      <th></th>\n",
              "      <th>TIME_hh</th>\n",
              "      <th>Temp_C</th>\n",
              "      <th>Sun_h</th>\n",
              "      <th>Wind_m_par_S</th>\n",
              "      <th>Rain_mm</th>\n",
              "    </tr>\n",
              "  </thead>\n",
              "  <tbody>\n",
              "    <tr>\n",
              "      <th>0</th>\n",
              "      <td>1</td>\n",
              "      <td>5.1</td>\n",
              "      <td>0.0</td>\n",
              "      <td>3.5</td>\n",
              "      <td>0.0</td>\n",
              "    </tr>\n",
              "    <tr>\n",
              "      <th>1</th>\n",
              "      <td>2</td>\n",
              "      <td>4.1</td>\n",
              "      <td>0.0</td>\n",
              "      <td>1.7</td>\n",
              "      <td>0.0</td>\n",
              "    </tr>\n",
              "    <tr>\n",
              "      <th>2</th>\n",
              "      <td>3</td>\n",
              "      <td>4.0</td>\n",
              "      <td>0.0</td>\n",
              "      <td>1.5</td>\n",
              "      <td>0.0</td>\n",
              "    </tr>\n",
              "    <tr>\n",
              "      <th>3</th>\n",
              "      <td>4</td>\n",
              "      <td>3.0</td>\n",
              "      <td>0.0</td>\n",
              "      <td>1.0</td>\n",
              "      <td>0.0</td>\n",
              "    </tr>\n",
              "    <tr>\n",
              "      <th>4</th>\n",
              "      <td>5</td>\n",
              "      <td>3.6</td>\n",
              "      <td>0.0</td>\n",
              "      <td>2.2</td>\n",
              "      <td>0.0</td>\n",
              "    </tr>\n",
              "  </tbody>\n",
              "</table>\n",
              "</div>"
            ],
            "text/plain": [
              "   TIME_hh  Temp_C  Sun_h  Wind_m_par_S  Rain_mm\n",
              "0        1     5.1    0.0           3.5      0.0\n",
              "1        2     4.1    0.0           1.7      0.0\n",
              "2        3     4.0    0.0           1.5      0.0\n",
              "3        4     3.0    0.0           1.0      0.0\n",
              "4        5     3.6    0.0           2.2      0.0"
            ]
          },
          "metadata": {
            "tags": []
          },
          "execution_count": 7
        }
      ]
    },
    {
      "cell_type": "code",
      "metadata": {
        "id": "nPEwPVZecMQc",
        "colab_type": "code",
        "outputId": "dcad59e4-3cd6-4155-f807-cba4adb6c7d9",
        "colab": {
          "base_uri": "https://localhost:8080/",
          "height": 204
        }
      },
      "source": [
        "# 目的変数Ｙの準備\n",
        "Y = train_df    # 元のtrain.dfからMan_kW以外を削除\n",
        "Y = Y.drop(\"TIME_hh\",axis=1)\n",
        "Y = Y.drop(\"Temp_C\",axis=1)\n",
        "Y = Y.drop(\"Sun_h\",axis=1)\n",
        "Y = Y.drop(\"Wind_m_par_S\",axis=1)\n",
        "Y = Y.drop(\"Rain_mm\",axis=1)\n",
        "Y.head(5)   # Ｙの表示（先頭5行）"
      ],
      "execution_count": 0,
      "outputs": [
        {
          "output_type": "execute_result",
          "data": {
            "text/html": [
              "<div>\n",
              "<style scoped>\n",
              "    .dataframe tbody tr th:only-of-type {\n",
              "        vertical-align: middle;\n",
              "    }\n",
              "\n",
              "    .dataframe tbody tr th {\n",
              "        vertical-align: top;\n",
              "    }\n",
              "\n",
              "    .dataframe thead th {\n",
              "        text-align: right;\n",
              "    }\n",
              "</style>\n",
              "<table border=\"1\" class=\"dataframe\">\n",
              "  <thead>\n",
              "    <tr style=\"text-align: right;\">\n",
              "      <th></th>\n",
              "      <th>Man_kW</th>\n",
              "    </tr>\n",
              "  </thead>\n",
              "  <tbody>\n",
              "    <tr>\n",
              "      <th>0</th>\n",
              "      <td>2634</td>\n",
              "    </tr>\n",
              "    <tr>\n",
              "      <th>1</th>\n",
              "      <td>2520</td>\n",
              "    </tr>\n",
              "    <tr>\n",
              "      <th>2</th>\n",
              "      <td>2438</td>\n",
              "    </tr>\n",
              "    <tr>\n",
              "      <th>3</th>\n",
              "      <td>2389</td>\n",
              "    </tr>\n",
              "    <tr>\n",
              "      <th>4</th>\n",
              "      <td>2394</td>\n",
              "    </tr>\n",
              "  </tbody>\n",
              "</table>\n",
              "</div>"
            ],
            "text/plain": [
              "   Man_kW\n",
              "0    2634\n",
              "1    2520\n",
              "2    2438\n",
              "3    2389\n",
              "4    2394"
            ]
          },
          "metadata": {
            "tags": []
          },
          "execution_count": 8
        }
      ]
    },
    {
      "cell_type": "markdown",
      "metadata": {
        "id": "BMN-nfMJXqQo",
        "colab_type": "text"
      },
      "source": [
        "学習データ（テスト含む）のＸ(説明変数)とＹ(目的変数)の準備完了。"
      ]
    },
    {
      "cell_type": "markdown",
      "metadata": {
        "colab_type": "text",
        "id": "rsQa3s8eD82_"
      },
      "source": [
        "### 重回帰モデル作成"
      ]
    },
    {
      "cell_type": "code",
      "metadata": {
        "id": "NLSwyYltre7I",
        "colab_type": "code",
        "outputId": "bf807e9d-c996-4b7f-e7ac-9ad85e0e47fc",
        "colab": {
          "base_uri": "https://localhost:8080/",
          "height": 85
        }
      },
      "source": [
        "import pandas as pd    # 必要なライブラリのインポート\n",
        "import numpy as np\n",
        "import matplotlib.pyplot as plt\n",
        "from sklearn.model_selection import train_test_split   # 学習とテストのデータを分割する時に必要\n",
        "from sklearn import datasets\n",
        "from sklearn import linear_model\n",
        "from sklearn.preprocessing import StandardScaler\n",
        "from sklearn.preprocessing import MinMaxScaler\n",
        "\n",
        "# 学習用とテスト用のデータ分割\n",
        "X_train, X_test, Y_train, Y_test = train_test_split(X, Y, test_size=0.8, random_state=0)   # 学習用80％、テスト用20％に分割\n",
        "\n",
        "# 重回帰分析（予測モデルの作成）\n",
        "clf = linear_model.LinearRegression(fit_intercept=True, normalize=True, copy_X=True, n_jobs=1)\n",
        "clf.fit(X_train, Y_train)\n",
        "\n",
        "#print(pd.DataFrame({\"Name\":X.columns,\"Coefficients\":np.abs(clf.coef_)}).sort_values(by='Coefficients'))\n",
        "print(\"回帰変数：\",clf.coef_)    # coef　：回帰変数\n",
        "print(\"切片：\",clf.intercept_)    # intercept_ ：切片\n",
        "#print(\"決定係数(学習用)：\",clf.score(X_train,Y_train))   # score ：決定係数 R2を出力\n",
        "#print(\"決定係数(テスト用)：\",clf.score(X_test,Y_test))   # score ：決定係数 R2を出力"
      ],
      "execution_count": 0,
      "outputs": [
        {
          "output_type": "stream",
          "text": [
            "回帰変数： [[ 41.68111068  -4.81237872 440.17305855  36.94520187 -11.17360726]]\n",
            "切片： [2694.84862232]\n",
            "決定係数(学習用)： 0.2895613071277868\n",
            "決定係数(テスト用)： 0.26832504661427914\n"
          ],
          "name": "stdout"
        }
      ]
    },
    {
      "cell_type": "markdown",
      "metadata": {
        "id": "KgnntFFXa33H",
        "colab_type": "text"
      },
      "source": [
        "重回帰モデルの作成完了。\n",
        "\n",
        "結果を式で表すと　Man_kW = (41.68 * TIME_hh) + (-4.81 * Temp_C) + (440.17 * Sun_h) + (36.94 * Wind_m_par_S) +(-11.17 * Rain_mm) +2694.84"
      ]
    },
    {
      "cell_type": "markdown",
      "metadata": {
        "colab_type": "text",
        "id": "v0kIu7WjIBCf"
      },
      "source": [
        "### Prediction"
      ]
    },
    {
      "cell_type": "markdown",
      "metadata": {
        "id": "79w3mWn8ccIC",
        "colab_type": "text"
      },
      "source": [
        "予測データの準備\n",
        "\n",
        "本例では2019/4/1～4/5の東京電力_電力実績と気象庁データ(気温/降水量/日照時間/風速など)の結合データ(CSV)を、将来データとして使用\n",
        "\n",
        "　データフレーム名　**pred_df** ：Tokyo_Power_weather_Predict_sample_new2.csvをPandasで格納"
      ]
    },
    {
      "cell_type": "code",
      "metadata": {
        "id": "_tz1bedDvwjZ",
        "colab_type": "code",
        "outputId": "a9544b8d-2daa-4127-ad65-d8dddfe76a60",
        "colab": {
          "base_uri": "https://localhost:8080/",
          "height": 204
        }
      },
      "source": [
        "# 予測用データの準備\n",
        "pred_df = pd.read_csv(\"Tokyo_Power_weather_Predict_sample_new2.csv\", encoding=\"utf_8\")\n",
        "pred_df.head(5)    #  データフレームの表示（先頭5行）"
      ],
      "execution_count": 0,
      "outputs": [
        {
          "output_type": "execute_result",
          "data": {
            "text/html": [
              "<div>\n",
              "<style scoped>\n",
              "    .dataframe tbody tr th:only-of-type {\n",
              "        vertical-align: middle;\n",
              "    }\n",
              "\n",
              "    .dataframe tbody tr th {\n",
              "        vertical-align: top;\n",
              "    }\n",
              "\n",
              "    .dataframe thead th {\n",
              "        text-align: right;\n",
              "    }\n",
              "</style>\n",
              "<table border=\"1\" class=\"dataframe\">\n",
              "  <thead>\n",
              "    <tr style=\"text-align: right;\">\n",
              "      <th></th>\n",
              "      <th>DATE</th>\n",
              "      <th>TIME_hh</th>\n",
              "      <th>TIME_mm</th>\n",
              "      <th>Temp_C</th>\n",
              "      <th>Sun_h</th>\n",
              "      <th>Wind_m_par_S</th>\n",
              "      <th>Rain_mm</th>\n",
              "    </tr>\n",
              "  </thead>\n",
              "  <tbody>\n",
              "    <tr>\n",
              "      <th>0</th>\n",
              "      <td>2019/4/1</td>\n",
              "      <td>1</td>\n",
              "      <td>0</td>\n",
              "      <td>8.2</td>\n",
              "      <td>0.0</td>\n",
              "      <td>3.3</td>\n",
              "      <td>0.0</td>\n",
              "    </tr>\n",
              "    <tr>\n",
              "      <th>1</th>\n",
              "      <td>2019/4/1</td>\n",
              "      <td>2</td>\n",
              "      <td>0</td>\n",
              "      <td>7.8</td>\n",
              "      <td>0.0</td>\n",
              "      <td>4.1</td>\n",
              "      <td>0.0</td>\n",
              "    </tr>\n",
              "    <tr>\n",
              "      <th>2</th>\n",
              "      <td>2019/4/1</td>\n",
              "      <td>3</td>\n",
              "      <td>0</td>\n",
              "      <td>7.3</td>\n",
              "      <td>0.0</td>\n",
              "      <td>2.4</td>\n",
              "      <td>0.0</td>\n",
              "    </tr>\n",
              "    <tr>\n",
              "      <th>3</th>\n",
              "      <td>2019/4/1</td>\n",
              "      <td>4</td>\n",
              "      <td>0</td>\n",
              "      <td>7.1</td>\n",
              "      <td>0.0</td>\n",
              "      <td>4.1</td>\n",
              "      <td>0.0</td>\n",
              "    </tr>\n",
              "    <tr>\n",
              "      <th>4</th>\n",
              "      <td>2019/4/1</td>\n",
              "      <td>5</td>\n",
              "      <td>0</td>\n",
              "      <td>6.7</td>\n",
              "      <td>0.0</td>\n",
              "      <td>1.8</td>\n",
              "      <td>0.0</td>\n",
              "    </tr>\n",
              "  </tbody>\n",
              "</table>\n",
              "</div>"
            ],
            "text/plain": [
              "       DATE  TIME_hh  TIME_mm  Temp_C  Sun_h  Wind_m_par_S  Rain_mm\n",
              "0  2019/4/1        1        0     8.2    0.0           3.3      0.0\n",
              "1  2019/4/1        2        0     7.8    0.0           4.1      0.0\n",
              "2  2019/4/1        3        0     7.3    0.0           2.4      0.0\n",
              "3  2019/4/1        4        0     7.1    0.0           4.1      0.0\n",
              "4  2019/4/1        5        0     6.7    0.0           1.8      0.0"
            ]
          },
          "metadata": {
            "tags": []
          },
          "execution_count": 10
        }
      ]
    },
    {
      "cell_type": "code",
      "metadata": {
        "id": "r3MRfpTv8-5x",
        "colab_type": "code",
        "outputId": "c0e902fd-d3f3-4078-f1c3-0dca60e3f401",
        "colab": {
          "base_uri": "https://localhost:8080/",
          "height": 204
        }
      },
      "source": [
        "# 不要カラムの削除（今回はDATEとTIME_mmを削除）\n",
        "X2 = pred_df\n",
        "X2 = X2.drop(\"DATE\",axis=1)\n",
        "X2 = X2.drop(\"TIME_mm\",axis=1)\n",
        "X2.head(5)    #不要カラム削除後のデータフレーム表示（先頭5行表示）"
      ],
      "execution_count": 0,
      "outputs": [
        {
          "output_type": "execute_result",
          "data": {
            "text/html": [
              "<div>\n",
              "<style scoped>\n",
              "    .dataframe tbody tr th:only-of-type {\n",
              "        vertical-align: middle;\n",
              "    }\n",
              "\n",
              "    .dataframe tbody tr th {\n",
              "        vertical-align: top;\n",
              "    }\n",
              "\n",
              "    .dataframe thead th {\n",
              "        text-align: right;\n",
              "    }\n",
              "</style>\n",
              "<table border=\"1\" class=\"dataframe\">\n",
              "  <thead>\n",
              "    <tr style=\"text-align: right;\">\n",
              "      <th></th>\n",
              "      <th>TIME_hh</th>\n",
              "      <th>Temp_C</th>\n",
              "      <th>Sun_h</th>\n",
              "      <th>Wind_m_par_S</th>\n",
              "      <th>Rain_mm</th>\n",
              "    </tr>\n",
              "  </thead>\n",
              "  <tbody>\n",
              "    <tr>\n",
              "      <th>0</th>\n",
              "      <td>1</td>\n",
              "      <td>8.2</td>\n",
              "      <td>0.0</td>\n",
              "      <td>3.3</td>\n",
              "      <td>0.0</td>\n",
              "    </tr>\n",
              "    <tr>\n",
              "      <th>1</th>\n",
              "      <td>2</td>\n",
              "      <td>7.8</td>\n",
              "      <td>0.0</td>\n",
              "      <td>4.1</td>\n",
              "      <td>0.0</td>\n",
              "    </tr>\n",
              "    <tr>\n",
              "      <th>2</th>\n",
              "      <td>3</td>\n",
              "      <td>7.3</td>\n",
              "      <td>0.0</td>\n",
              "      <td>2.4</td>\n",
              "      <td>0.0</td>\n",
              "    </tr>\n",
              "    <tr>\n",
              "      <th>3</th>\n",
              "      <td>4</td>\n",
              "      <td>7.1</td>\n",
              "      <td>0.0</td>\n",
              "      <td>4.1</td>\n",
              "      <td>0.0</td>\n",
              "    </tr>\n",
              "    <tr>\n",
              "      <th>4</th>\n",
              "      <td>5</td>\n",
              "      <td>6.7</td>\n",
              "      <td>0.0</td>\n",
              "      <td>1.8</td>\n",
              "      <td>0.0</td>\n",
              "    </tr>\n",
              "  </tbody>\n",
              "</table>\n",
              "</div>"
            ],
            "text/plain": [
              "   TIME_hh  Temp_C  Sun_h  Wind_m_par_S  Rain_mm\n",
              "0        1     8.2    0.0           3.3      0.0\n",
              "1        2     7.8    0.0           4.1      0.0\n",
              "2        3     7.3    0.0           2.4      0.0\n",
              "3        4     7.1    0.0           4.1      0.0\n",
              "4        5     6.7    0.0           1.8      0.0"
            ]
          },
          "metadata": {
            "tags": []
          },
          "execution_count": 11
        }
      ]
    },
    {
      "cell_type": "code",
      "metadata": {
        "id": "rJN_l2jsDzA4",
        "colab_type": "code",
        "outputId": "5e4e0a0d-deba-43bf-dec5-2f26360019db",
        "colab": {
          "base_uri": "https://localhost:8080/",
          "height": 359
        }
      },
      "source": [
        "# 予測の実施\n",
        "pred = pred_df\n",
        "rslt = clf.predict(X2)  # 重回帰予測値(目的変数 Y)を取得\n",
        "pred['Pred_Man_kW'] = np.array(rslt)  # 予測基データ(説明変数 X)のデータフレームに、重回帰予測値(目的変数 Y)をカラム追加\n",
        "pred.head(10)   # 予測結果を表示（先頭10件）"
      ],
      "execution_count": 0,
      "outputs": [
        {
          "output_type": "execute_result",
          "data": {
            "text/html": [
              "<div>\n",
              "<style scoped>\n",
              "    .dataframe tbody tr th:only-of-type {\n",
              "        vertical-align: middle;\n",
              "    }\n",
              "\n",
              "    .dataframe tbody tr th {\n",
              "        vertical-align: top;\n",
              "    }\n",
              "\n",
              "    .dataframe thead th {\n",
              "        text-align: right;\n",
              "    }\n",
              "</style>\n",
              "<table border=\"1\" class=\"dataframe\">\n",
              "  <thead>\n",
              "    <tr style=\"text-align: right;\">\n",
              "      <th></th>\n",
              "      <th>DATE</th>\n",
              "      <th>TIME_hh</th>\n",
              "      <th>TIME_mm</th>\n",
              "      <th>Temp_C</th>\n",
              "      <th>Sun_h</th>\n",
              "      <th>Wind_m_par_S</th>\n",
              "      <th>Rain_mm</th>\n",
              "      <th>Pred_Man_kW</th>\n",
              "    </tr>\n",
              "  </thead>\n",
              "  <tbody>\n",
              "    <tr>\n",
              "      <th>0</th>\n",
              "      <td>2019/4/1</td>\n",
              "      <td>1</td>\n",
              "      <td>0</td>\n",
              "      <td>8.2</td>\n",
              "      <td>0.0</td>\n",
              "      <td>3.3</td>\n",
              "      <td>0.0</td>\n",
              "      <td>2818.987394</td>\n",
              "    </tr>\n",
              "    <tr>\n",
              "      <th>1</th>\n",
              "      <td>2019/4/1</td>\n",
              "      <td>2</td>\n",
              "      <td>0</td>\n",
              "      <td>7.8</td>\n",
              "      <td>0.0</td>\n",
              "      <td>4.1</td>\n",
              "      <td>0.0</td>\n",
              "      <td>2892.149617</td>\n",
              "    </tr>\n",
              "    <tr>\n",
              "      <th>2</th>\n",
              "      <td>2019/4/1</td>\n",
              "      <td>3</td>\n",
              "      <td>0</td>\n",
              "      <td>7.3</td>\n",
              "      <td>0.0</td>\n",
              "      <td>2.4</td>\n",
              "      <td>0.0</td>\n",
              "      <td>2873.430074</td>\n",
              "    </tr>\n",
              "    <tr>\n",
              "      <th>3</th>\n",
              "      <td>2019/4/1</td>\n",
              "      <td>4</td>\n",
              "      <td>0</td>\n",
              "      <td>7.1</td>\n",
              "      <td>0.0</td>\n",
              "      <td>4.1</td>\n",
              "      <td>0.0</td>\n",
              "      <td>2978.880504</td>\n",
              "    </tr>\n",
              "    <tr>\n",
              "      <th>4</th>\n",
              "      <td>2019/4/1</td>\n",
              "      <td>5</td>\n",
              "      <td>0</td>\n",
              "      <td>6.7</td>\n",
              "      <td>0.0</td>\n",
              "      <td>1.8</td>\n",
              "      <td>0.0</td>\n",
              "      <td>2937.512602</td>\n",
              "    </tr>\n",
              "    <tr>\n",
              "      <th>5</th>\n",
              "      <td>2019/4/1</td>\n",
              "      <td>6</td>\n",
              "      <td>0</td>\n",
              "      <td>6.6</td>\n",
              "      <td>0.3</td>\n",
              "      <td>3.4</td>\n",
              "      <td>0.0</td>\n",
              "      <td>3170.839191</td>\n",
              "    </tr>\n",
              "    <tr>\n",
              "      <th>6</th>\n",
              "      <td>2019/4/1</td>\n",
              "      <td>7</td>\n",
              "      <td>0</td>\n",
              "      <td>8.0</td>\n",
              "      <td>1.0</td>\n",
              "      <td>2.3</td>\n",
              "      <td>0.0</td>\n",
              "      <td>3473.264390</td>\n",
              "    </tr>\n",
              "    <tr>\n",
              "      <th>7</th>\n",
              "      <td>2019/4/1</td>\n",
              "      <td>8</td>\n",
              "      <td>0</td>\n",
              "      <td>8.7</td>\n",
              "      <td>0.7</td>\n",
              "      <td>4.7</td>\n",
              "      <td>0.0</td>\n",
              "      <td>3468.193403</td>\n",
              "    </tr>\n",
              "    <tr>\n",
              "      <th>8</th>\n",
              "      <td>2019/4/1</td>\n",
              "      <td>9</td>\n",
              "      <td>0</td>\n",
              "      <td>11.0</td>\n",
              "      <td>0.8</td>\n",
              "      <td>2.4</td>\n",
              "      <td>0.0</td>\n",
              "      <td>3457.849384</td>\n",
              "    </tr>\n",
              "    <tr>\n",
              "      <th>9</th>\n",
              "      <td>2019/4/1</td>\n",
              "      <td>10</td>\n",
              "      <td>0</td>\n",
              "      <td>13.2</td>\n",
              "      <td>1.0</td>\n",
              "      <td>2.2</td>\n",
              "      <td>0.0</td>\n",
              "      <td>3569.588833</td>\n",
              "    </tr>\n",
              "  </tbody>\n",
              "</table>\n",
              "</div>"
            ],
            "text/plain": [
              "       DATE  TIME_hh  TIME_mm  ...  Wind_m_par_S  Rain_mm  Pred_Man_kW\n",
              "0  2019/4/1        1        0  ...           3.3      0.0  2818.987394\n",
              "1  2019/4/1        2        0  ...           4.1      0.0  2892.149617\n",
              "2  2019/4/1        3        0  ...           2.4      0.0  2873.430074\n",
              "3  2019/4/1        4        0  ...           4.1      0.0  2978.880504\n",
              "4  2019/4/1        5        0  ...           1.8      0.0  2937.512602\n",
              "5  2019/4/1        6        0  ...           3.4      0.0  3170.839191\n",
              "6  2019/4/1        7        0  ...           2.3      0.0  3473.264390\n",
              "7  2019/4/1        8        0  ...           4.7      0.0  3468.193403\n",
              "8  2019/4/1        9        0  ...           2.4      0.0  3457.849384\n",
              "9  2019/4/1       10        0  ...           2.2      0.0  3569.588833\n",
              "\n",
              "[10 rows x 8 columns]"
            ]
          },
          "metadata": {
            "tags": []
          },
          "execution_count": 37
        }
      ]
    },
    {
      "cell_type": "markdown",
      "metadata": {
        "id": "dURZkqfnkX1t",
        "colab_type": "text"
      },
      "source": [
        "【参考】カラム説明 \n",
        "\n",
        "**DATE**:年月日、**TIME_hh**:時間、**TIME_mm**:分、**Temp_C**:気温 ℃、**Sun_h**:日照時間 時間、\n",
        "\n",
        "**Wind_m_par_S**:風速 m/秒、**Rain_mm**:降水量 mm、\n",
        "\n",
        "**Pred_Man_kW**:電力量 万キロワット**←今回の目的変数**\n"
      ]
    },
    {
      "cell_type": "code",
      "metadata": {
        "id": "_pIWAbYdZab1",
        "colab_type": "code",
        "outputId": "b8c0651a-3d74-434c-dbd3-fce2a50429c1",
        "colab": {
          "base_uri": "https://localhost:8080/",
          "height": 269
        }
      },
      "source": [
        "import matplotlib.pyplot as plt\n",
        "y = np.array(rslt)  # 電力予測値をYにセット\n",
        "x = np.array(range(119))  # X用に119個までの連番生成\n",
        "plt.plot(x,y)\n",
        "plt.show()"
      ],
      "execution_count": 0,
      "outputs": [
        {
          "output_type": "display_data",
          "data": {
            "image/png": "[encoded data removed]",
            "text/plain": [
              "<Figure size 432x288 with 1 Axes>"
            ]
          },
          "metadata": {
            "tags": []
          }
        }
      ]
    },
    {
      "cell_type": "code",
      "metadata": {
        "id": "Ttx3pFyTDzRm",
        "colab_type": "code",
        "colab": {}
      },
      "source": [
        "pred.to_csv(\"Tokyo_Power_Prediction_result.csv.csv\")   # CSV出力"
      ],
      "execution_count": 0,
      "outputs": []
    },
    {
      "cell_type": "markdown",
      "metadata": {
        "id": "p6-5U-l7j5kY",
        "colab_type": "text"
      },
      "source": [
        "**重回帰予測とCSV保存が完了。**"
      ]
    },
    {
      "cell_type": "markdown",
      "metadata": {
        "id": "7IWcY8nzdyy6",
        "colab_type": "text"
      },
      "source": [
        "### （その他）メモ書きなど"
      ]
    },
    {
      "cell_type": "markdown",
      "metadata": {
        "id": "zUdIt9ykQgjK",
        "colab_type": "text"
      },
      "source": [
        "---"
      ]
    }
  ]
}
