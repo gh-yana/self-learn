{
  "nbformat": 4,
  "nbformat_minor": 0,
  "metadata": {
    "colab": {
      "name": "Demo2_sklearn-1_LinearRegression_TokyoPower_Sample.ipynb",
      "provenance": [],
      "collapsed_sections": []
    },
    "kernelspec": {
      "name": "python3",
      "display_name": "Python 3"
    }
  },
  "cells": [
    {
      "cell_type": "markdown",
      "metadata": {
        "id": "8hJU69c7cI2E",
        "colab_type": "text"
      },
      "source": [
        "### 事前準備"
      ]
    },
    {
      "cell_type": "code",
      "metadata": {
        "id": "Ot1XNS0i1BkT",
        "colab_type": "code",
        "colab": {}
      },
      "source": [
        "from google.colab import drive\n",
        "drive.mount('/content/drive')"
      ],
      "execution_count": 0,
      "outputs": []
    },
    {
      "cell_type": "code",
      "metadata": {
        "id": "wsz_CHO51cGB",
        "colab_type": "code",
        "colab": {}
      },
      "source": [
        "!cp \"/content/drive/My Drive/Tokyo_Power_weather_2017-2018_sample_new2.csv\" \"./\"   # データのコピー\n",
        "!cp \"/content/drive/My Drive/Tokyo_Power_weather_Predict_sample_new2.csv\" \"./\"\n",
        "!cp \"/content/drive/My Drive/Tokyo_Power_20190401_05.csv\" \"./\"\n",
        "!ls -l"
      ],
      "execution_count": 0,
      "outputs": []
    },
    {
      "cell_type": "markdown",
      "metadata": {
        "id": "LCh8DIGyR47k",
        "colab_type": "text"
      },
      "source": [
        "# **scikit-learn(sklearn)で東京電力の電力需要を重回帰予測する例**"
      ]
    },
    {
      "cell_type": "markdown",
      "metadata": {
        "id": "nQUeKpR4Tr_g",
        "colab_type": "text"
      },
      "source": [
        "### 本例で用いる学習データの所在\n",
        "\n",
        "*   **東京電力「過去の電力使用実績のダウンロード」**[ここから入手](http://www.tepco.co.jp/forecast/html/download-j.html)\n",
        "*   **気象庁「過去の気象データ・ダウンロード」**[ここから入手](https://www.data.jma.go.jp/gmd/risk/obsdl/index.php)\n"
      ]
    },
    {
      "cell_type": "markdown",
      "metadata": {
        "colab_type": "text",
        "id": "MioxKXnvVev-"
      },
      "source": [
        "## **データ準備**"
      ]
    },
    {
      "cell_type": "markdown",
      "metadata": {
        "id": "4usIk3RPAsVU",
        "colab_type": "text"
      },
      "source": [
        "**学習データの準備**\n",
        "\n",
        "<font color=red>**本例では2017/1/1～2018/12/31の東京電力_電力実績と気象庁データ(気温/降水量/日照時間/風速など)の結合データ(CSV)を使用**</font>\n",
        "\n",
        "　データフレーム名　**train_df** ：Tokyo_Power_Weather_2017-2018_sample_new2.csvをPandasで格納<br>\n",
        "　※Pandas：Pythonで表形式のデータを扱うためのライブラリ。データ抽出/加工/集計など、分析でよく使われる。"
      ]
    },
    {
      "cell_type": "code",
      "metadata": {
        "id": "X30hSYCqANR_",
        "colab_type": "code",
        "colab": {}
      },
      "source": [
        "import pandas as pd #pandasをpdとしてインポート。データをdfに読み込み。pandasをpdとして利用。\n",
        "train_df = pd.read_csv(\"Tokyo_Power_weather_2017-2018_sample_new2.csv\", encoding=\"utf_8\")\n",
        "train_df.head(5)    #データフレームの表示（先頭5行表示）"
      ],
      "execution_count": 0,
      "outputs": []
    },
    {
      "cell_type": "markdown",
      "metadata": {
        "id": "Rqk89du0EE7N",
        "colab_type": "text"
      },
      "source": [
        "＜参考＞データサンプルのカラム説明（レコード数は17,506） \\\\\n",
        "**DATE**:年月日(東電)、**TIME_hh**:時間(東電)、**TIME_mm**:分(東電)、<font color=red>**Man_kW**:電力量　万キロワット(東電)**←今回の目的変数**</font>、 \\\\\n",
        "**Temp_C**:気温　℃(気象庁)、**Sun_h**:日照時間　時間(気象庁)、**Wind_m_par_S**:風速　m/秒(気象庁)、**Rain_mm**:降水量　mm(気象庁)\n"
      ]
    },
    {
      "cell_type": "markdown",
      "metadata": {
        "id": "zcXeqfq7tmIM",
        "colab_type": "text"
      },
      "source": [
        "**データの準備** \\\\\n",
        "説明変数となるデータ（Ｘ）を準備する。 \\\\\n",
        "データフレームから、説明変数で不要なカラム（今回はDATEとTIME_mm）を削除する。   \\\\\n",
        "あわせて、目的変数となるカラム（今回はMan_kW）も削除する。"
      ]
    },
    {
      "cell_type": "code",
      "metadata": {
        "id": "0Xb9-ot8ApYk",
        "colab_type": "code",
        "colab": {}
      },
      "source": [
        "train_df = train_df.drop(\"DATE\",axis=1)     # 説明変数の不要カラム（DATE）を削除\n",
        "train_df = train_df.drop(\"TIME_mm\",axis=1)  # 説明変数の不要カラム（TIME_mm）を削除\n",
        "train_df = train_df.drop(\"Man_kW\",axis=1)   # 目的変数のカラム（Man_kW）を削除\n",
        "train_df.head(5)    #不要カラム削除後のデータフレーム表示（先頭5行表示）"
      ],
      "execution_count": 0,
      "outputs": []
    },
    {
      "cell_type": "markdown",
      "metadata": {
        "id": "XJst8TB-uwZj",
        "colab_type": "text"
      },
      "source": [
        "**説明変数（Ｘ）をセット** \\\\\n",
        "上記のデータフレームを入力として、説明変数（Ｘ）をセットする。 \\\\\n",
        "ついでに、基本統計量（即ち、Xの概略）も表示する。"
      ]
    },
    {
      "cell_type": "code",
      "metadata": {
        "id": "M-dMiPM6XiUo",
        "colab_type": "code",
        "colab": {}
      },
      "source": [
        "X = train_df   # 説明変数Ｘの準備\n",
        "print(X.describe())   # Ｘの概要（基本統計量）"
      ],
      "execution_count": 0,
      "outputs": []
    },
    {
      "cell_type": "markdown",
      "metadata": {
        "id": "FIu3l26wQ1L7",
        "colab_type": "text"
      },
      "source": [
        "＜補足＞</br>\n",
        "describe関数で数値の特徴（基本統計量）を見ることができる。主な項目は次の通り。</br>\n",
        "<ul>\n",
        "<li>count：データの個数</li>\n",
        "<li>mean：平均値</li>\n",
        "<li>std：標準偏差（データのばらつき）</li>\n",
        "<li>min/25%/50%/75%/max：四分位(しぶんい)数　全データをソートした後の代表的な数値を抽出した値。より詳細にデータのバラツキが分かる。</li>\n",
        "</ul>\n"
      ]
    },
    {
      "cell_type": "markdown",
      "metadata": {
        "id": "NS9OJC7VxXYw",
        "colab_type": "text"
      },
      "source": [
        "**説明変数（Ｘ）の確認**"
      ]
    },
    {
      "cell_type": "code",
      "metadata": {
        "id": "V25vRSGNXiDP",
        "colab_type": "code",
        "colab": {}
      },
      "source": [
        "X.head(5)  # Ｘの表示（先頭5行）"
      ],
      "execution_count": 0,
      "outputs": []
    },
    {
      "cell_type": "markdown",
      "metadata": {
        "id": "yv1VA5VRxirb",
        "colab_type": "text"
      },
      "source": [
        "**目的変数（Ｙ）の準備と確認** \\\\\n",
        "不要なカラムを削除して、目的変数（今回は電力量Man_kW）をセット。"
      ]
    },
    {
      "cell_type": "code",
      "metadata": {
        "id": "nPEwPVZecMQc",
        "colab_type": "code",
        "colab": {}
      },
      "source": [
        "train_df = pd.read_csv(\"Tokyo_Power_weather_2017-2018_sample_new2.csv\", encoding=\"utf_8\")\n",
        "Y = train_df    # 元のtrain.dfからMan_kW以外を削除\n",
        "Y = Y.drop(\"DATE\",axis=1)\n",
        "Y = Y.drop(\"TIME_hh\",axis=1)\n",
        "Y = Y.drop(\"TIME_mm\",axis=1)\n",
        "Y = Y.drop(\"Temp_C\",axis=1)\n",
        "Y = Y.drop(\"Sun_h\",axis=1)\n",
        "Y = Y.drop(\"Wind_m_par_S\",axis=1)\n",
        "Y = Y.drop(\"Rain_mm\",axis=1)\n",
        "Y.head(5)   # Ｙの表示（先頭5行）"
      ],
      "execution_count": 0,
      "outputs": []
    },
    {
      "cell_type": "markdown",
      "metadata": {
        "id": "BMN-nfMJXqQo",
        "colab_type": "text"
      },
      "source": [
        "ここまでで、学習データ（テスト含む）となる、Ｘ(説明変数)とＹ(目的変数)の準備が完了。"
      ]
    },
    {
      "cell_type": "markdown",
      "metadata": {
        "colab_type": "text",
        "id": "rsQa3s8eD82_"
      },
      "source": [
        "## **重回帰モデルの作成**"
      ]
    },
    {
      "cell_type": "code",
      "metadata": {
        "id": "NLSwyYltre7I",
        "colab_type": "code",
        "colab": {}
      },
      "source": [
        "import pandas as pd    # 必要なライブラリのインポート\n",
        "import numpy as np\n",
        "import matplotlib.pyplot as plt\n",
        "from sklearn.model_selection import train_test_split   # 学習とテストのデータを分割する時に必要\n",
        "from sklearn import datasets\n",
        "from sklearn import linear_model\n",
        "from sklearn.preprocessing import StandardScaler\n",
        "from sklearn.preprocessing import MinMaxScaler\n",
        "\n",
        "# 学習用とテスト用のデータ分割\n",
        "X_train, X_test, Y_train, Y_test = train_test_split(X, Y, test_size=0.8, random_state=0)   # 学習用80％、テスト用20％に分割\n",
        "\n",
        "# 重回帰分析（予測モデルの作成）\n",
        "clf = linear_model.LinearRegression(fit_intercept=True, normalize=True, copy_X=True, n_jobs=1)\n",
        "clf.fit(X_train, Y_train)\n",
        "\n",
        "#print(pd.DataFrame({\"Name\":X.columns,\"Coefficients\":np.abs(clf.coef_)}).sort_values(by='Coefficients'))\n",
        "print(\"回帰変数：\",clf.coef_)    # coef　：回帰変数\n",
        "print(\"切片：\",clf.intercept_)    # intercept_ ：切片\n",
        "#print(\"決定係数(学習用)：\",clf.score(X_train,Y_train))   # score ：決定係数 R2を出力\n",
        "#print(\"決定係数(テスト用)：\",clf.score(X_test,Y_test))   # score ：決定係数 R2を出力"
      ],
      "execution_count": 0,
      "outputs": []
    },
    {
      "cell_type": "markdown",
      "metadata": {
        "id": "KgnntFFXa33H",
        "colab_type": "text"
      },
      "source": [
        "**重回帰モデルの作成完了** \\\\\n",
        "結果を式で表すと \\\\\n",
        "Man_kW =  (41.68×TIME_hh) + (-4.81×Temp_C) + (440.17×Sun_h) + (36.94×Wind_m_par_S) +(-11.17×Rain_mm) +2694.84  \\\\\n",
        "となる。"
      ]
    },
    {
      "cell_type": "markdown",
      "metadata": {
        "colab_type": "text",
        "id": "v0kIu7WjIBCf"
      },
      "source": [
        "## **予測（Prediction）**"
      ]
    },
    {
      "cell_type": "markdown",
      "metadata": {
        "id": "79w3mWn8ccIC",
        "colab_type": "text"
      },
      "source": [
        "**予測データの準備** \\\\\n",
        "\n",
        "<font color=red>**本例では2019/4/1～4/5の東京電力_電力実績と気象庁データ(気温/降水量/日照時間/風速など)の結合データ(CSV)を、将来データとして使用している。**</font>\n",
        "\n",
        "　データフレーム名　**pred_df** ：Tokyo_Power_weather_Predict_sample_new2.csvをPandasで格納"
      ]
    },
    {
      "cell_type": "markdown",
      "metadata": {
        "id": "-Z9QjKZuzrCS",
        "colab_type": "text"
      },
      "source": [
        "**データのロード**"
      ]
    },
    {
      "cell_type": "code",
      "metadata": {
        "id": "_tz1bedDvwjZ",
        "colab_type": "code",
        "colab": {}
      },
      "source": [
        "pred_df = pd.read_csv(\"Tokyo_Power_weather_Predict_sample_new2.csv\", encoding=\"utf_8\")   # 予測用データの準備\n",
        "pred_df.head(5)    #  データフレームの表示（先頭5行）"
      ],
      "execution_count": 0,
      "outputs": []
    },
    {
      "cell_type": "markdown",
      "metadata": {
        "id": "PAZGrC6az2O3",
        "colab_type": "text"
      },
      "source": [
        "**予測データの準備** \\\\\n",
        "データフレームから不要なカラム（今回はDATEとTIME_mm）を削除する。確認のために、先頭データを表示する。"
      ]
    },
    {
      "cell_type": "code",
      "metadata": {
        "id": "r3MRfpTv8-5x",
        "colab_type": "code",
        "colab": {}
      },
      "source": [
        "X2 = pred_df\n",
        "X2 = X2.drop(\"DATE\",axis=1)\n",
        "X2 = X2.drop(\"TIME_mm\",axis=1)\n",
        "X2.head(5)    #不要カラム削除後のデータフレーム表示（先頭5行表示）"
      ],
      "execution_count": 0,
      "outputs": []
    },
    {
      "cell_type": "markdown",
      "metadata": {
        "id": "PH6d73Nn0dPy",
        "colab_type": "text"
      },
      "source": [
        "**重回帰モデルを使って予測する**  \\\\\n",
        "作成した重回帰モデルを使って、電力を予測する。 \\\\\n",
        "時間、気温、日照時間、風速、降水量を入力（説明変数Ｘ）として、電力量（目的変数Ｙ）を重回帰モデルで出力する。"
      ]
    },
    {
      "cell_type": "code",
      "metadata": {
        "id": "rJN_l2jsDzA4",
        "colab_type": "code",
        "colab": {}
      },
      "source": [
        "pred = pred_df\n",
        "rslt = clf.predict(X2)  # 重回帰予測値(目的変数 Y)を取得\n",
        "pred['Pred_Man_kW'] = np.array(rslt)  # 予測基データ(説明変数 X)のデータフレームに、重回帰予測値(目的変数 Y)をカラム追加\n",
        "pred.head(10)   # 予測結果を表示（先頭10件）"
      ],
      "execution_count": 0,
      "outputs": []
    },
    {
      "cell_type": "markdown",
      "metadata": {
        "id": "dURZkqfnkX1t",
        "colab_type": "text"
      },
      "source": [
        "【参考】カラム説明 \n",
        "\n",
        "**DATE**:年月日、**TIME_hh**:時間、**TIME_mm**:分、**Temp_C**:気温 ℃、**Sun_h**:日照時間 時間、\n",
        "\n",
        "**Wind_m_par_S**:風速 m/秒、**Rain_mm**:降水量 mm、\n",
        "\n",
        "**Pred_Man_kW**:電力量 万キロワット**←今回の目的変数**\n"
      ]
    },
    {
      "cell_type": "markdown",
      "metadata": {
        "id": "E_82uubk149_",
        "colab_type": "text"
      },
      "source": [
        "**＜参考＞予測した電力量の推移をグラフで表示する**"
      ]
    },
    {
      "cell_type": "code",
      "metadata": {
        "id": "_pIWAbYdZab1",
        "colab_type": "code",
        "colab": {}
      },
      "source": [
        "import matplotlib.pyplot as plt\n",
        "y = np.array(rslt)  # 電力予測値をYにセット\n",
        "x = np.array(range(119))  # X用に119個までの連番生成（とりあえず表示するだけなので）\n",
        "plt.figure(figsize=(10,5),dpi=120)\n",
        "plt.plot(x,y)\n",
        "plt.grid(True)\n",
        "plt.title(\"Electricity forecast(2019/4/1-4/5)\")\n",
        "plt.ylabel(\"*10,000 KW\")\n",
        "plt.show()"
      ],
      "execution_count": 0,
      "outputs": []
    },
    {
      "cell_type": "markdown",
      "metadata": {
        "id": "l4QWZFLxJU9v",
        "colab_type": "text"
      },
      "source": [
        "## **予測電力量と実際の電力量のグラフ比較**\n",
        "* **<font color=blue>Pred_Man_kW　:今回予測した電力量</font>**\n",
        "* **<font color=orange>Man_kW　：実際の電力使用量</font>**"
      ]
    },
    {
      "cell_type": "code",
      "metadata": {
        "id": "nmPPoXBM80Pl",
        "colab_type": "code",
        "colab": {}
      },
      "source": [
        "real_kw_df = pd.read_csv(\"Tokyo_Power_20190401_05.csv\", encoding=\"utf_8\")   # 2019/4/1-4/5の実測値（予測値との比較用）\n",
        "real_kw_df = real_kw_df.drop(\"DATE\",axis=1)  # 不要カラム削除\n",
        "real_kw_df = real_kw_df.drop(\"TIME_hh\",axis=1)  # 不要カラム削除\n",
        "comp_df = pred_df   #  予測結果をセット\n",
        "comp_df = pd.concat([comp_df, real_kw_df], axis=1)    # 予測結果に実績カラムを追加\n",
        "#comp_df.head(5)\n",
        "\n",
        "comp_df.plot(y=['Pred_Man_kW', 'Man_kW'], alpha=12.0, figsize=(20,10))\n",
        "plt.title(\"Result comparison(2019/4/1-4/5)\", size=30)\n",
        "plt.grid(True)\n",
        "plt.ylabel(\"*10,000 KW\")\n",
        "plt.show()"
      ],
      "execution_count": 0,
      "outputs": []
    },
    {
      "cell_type": "code",
      "metadata": {
        "id": "Ttx3pFyTDzRm",
        "colab_type": "code",
        "colab": {}
      },
      "source": [
        "pred.to_csv(\"Tokyo_Power_Prediction_result.csv.csv\")   # CSV出力"
      ],
      "execution_count": 0,
      "outputs": []
    },
    {
      "cell_type": "markdown",
      "metadata": {
        "id": "p6-5U-l7j5kY",
        "colab_type": "text"
      },
      "source": [
        "**重回帰予測とCSV保存が完了。**"
      ]
    },
    {
      "cell_type": "markdown",
      "metadata": {
        "id": "7IWcY8nzdyy6",
        "colab_type": "text"
      },
      "source": [
        "### （その他）メモ書きなど"
      ]
    },
    {
      "cell_type": "markdown",
      "metadata": {
        "id": "zUdIt9ykQgjK",
        "colab_type": "text"
      },
      "source": [
        "---"
      ]
    }
  ]
}