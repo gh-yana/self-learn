{
  "nbformat": 4,
  "nbformat_minor": 0,
  "metadata": {
    "colab": {
      "name": "Demo1_Keras-1-ImageRecognition-CNN_CIFAR10.ipynb",
      "provenance": [],
      "collapsed_sections": []
    },
    "kernelspec": {
      "name": "python3",
      "display_name": "Python 3"
    },
    "accelerator": "GPU"
  },
  "cells": [
    {
      "cell_type": "markdown",
      "metadata": {
        "id": "Zp7UCEjl8J4t",
        "colab_type": "text"
      },
      "source": [
        "## 事前準備"
      ]
    },
    {
      "cell_type": "markdown",
      "metadata": {
        "id": "5Xdeu0GJ8pcr",
        "colab_type": "text"
      },
      "source": [
        "**TensorFlow1.xのセットアップ**\n",
        "ColabのDefault Versionが2.0になった時の対応用。<font color=red>**ランタイムの再起動が必要!!**</font>"
      ]
    },
    {
      "cell_type": "code",
      "metadata": {
        "id": "5vEXYZQj9P8C",
        "colab_type": "code",
        "colab": {}
      },
      "source": [
        "%tensorflow_version 1.x\n",
        "import tensorflow as tf\n",
        "print(tf.__version__)"
      ],
      "execution_count": 0,
      "outputs": []
    },
    {
      "cell_type": "markdown",
      "metadata": {
        "id": "T4wU9uzseXjv",
        "colab_type": "text"
      },
      "source": [
        "**ドライブ共有準備**"
      ]
    },
    {
      "cell_type": "code",
      "metadata": {
        "id": "e8qBHDo-uX3c",
        "colab_type": "code",
        "colab": {}
      },
      "source": [
        "from google.colab import drive\n",
        "drive.mount('/content/drive')"
      ],
      "execution_count": 0,
      "outputs": []
    },
    {
      "cell_type": "code",
      "metadata": {
        "id": "9jIcMxhvuchu",
        "colab_type": "code",
        "colab": {}
      },
      "source": [
        "import tensorflow as tf     # TensorFlowのインポート\n",
        "print(tf.__version__)\n",
        "import keras      # Kerasのインポート\n",
        "print(keras.__version__)"
      ],
      "execution_count": 0,
      "outputs": []
    },
    {
      "cell_type": "markdown",
      "metadata": {
        "id": "LCh8DIGyR47k",
        "colab_type": "text"
      },
      "source": [
        "# **Keras(TensorFlow)でCIFAR-10のデータを使って画像分類モデル(CNN)を作成する例**\n",
        "*   Kerasはtensorflowなどで動くPythonで書かれたニューラルネットワークライブラリ。詳細は[こちら](https://keras.io/ja/)\n",
        "*   CIFAR-10は60,000個の画像が入ったデータ・セット。50,000個がトレーニング用，10,000個がテスト用。飛行機/自動車/鳥/猫など10種類の画像。100種類のデータセットのCIFAR-100もある。"
      ]
    },
    {
      "cell_type": "markdown",
      "metadata": {
        "id": "8hJU69c7cI2E",
        "colab_type": "text"
      },
      "source": [
        "## **サンプルデータ準備**"
      ]
    },
    {
      "cell_type": "code",
      "metadata": {
        "id": "fFHbr3OkSBpv",
        "colab_type": "code",
        "colab": {}
      },
      "source": [
        "# 初心者用のディープラーニングツール(dlt)をインストール CIFAR-10等を含む\n",
        "!pip install dlt"
      ],
      "execution_count": 0,
      "outputs": []
    },
    {
      "cell_type": "markdown",
      "metadata": {
        "id": "Vl3I9GoeemCi",
        "colab_type": "text"
      },
      "source": [
        "**データの準備(CIFAR-10データセットの読み込み)**"
      ]
    },
    {
      "cell_type": "code",
      "metadata": {
        "id": "4qvXrIXzSpy6",
        "colab_type": "code",
        "colab": {}
      },
      "source": [
        "import dlt      # パッケージインポート\n",
        "data = dlt.cifar.load_cifar10()      # データをダウンロードしてセット\n",
        "x_train = data.train_images       # 学習用データのセット\n",
        "y_train = data.train_labels       # 学習用ラベルのセット\n",
        "x_test = data.train_images        # テスト用データのセット\n",
        "y_test =data.train_labels         # テスト用ラベルのセット"
      ],
      "execution_count": 0,
      "outputs": []
    },
    {
      "cell_type": "markdown",
      "metadata": {
        "id": "VYrOo4sofXur",
        "colab_type": "text"
      },
      "source": [
        "**読み込んだ画像の概略（サムネイルを表示）**"
      ]
    },
    {
      "cell_type": "code",
      "metadata": {
        "id": "ahxl_z6LY-wn",
        "colab_type": "code",
        "colab": {}
      },
      "source": [
        "dlt.utils.plot_examples(data,num_examples=3,fname='examples.jpg')   # 取りあえず3行ほど作成\n",
        "from IPython.display import Image,display_jpeg\n",
        "display_jpeg(Image('./examples.jpg'))"
      ],
      "execution_count": 0,
      "outputs": []
    },
    {
      "cell_type": "markdown",
      "metadata": {
        "id": "yfgefxVOe08G",
        "colab_type": "text"
      },
      "source": [
        "**読み込んだ画像(イメージ)の確認**"
      ]
    },
    {
      "cell_type": "code",
      "metadata": {
        "id": "IFED8Nh7TjO7",
        "colab_type": "code",
        "colab": {}
      },
      "source": [
        "import matplotlib.pyplot as plt\n",
        "plt.imshow(x_train[5])  # 画像表示\n",
        "print(y_train[5])  # ついでにラベル番号も表示"
      ],
      "execution_count": 0,
      "outputs": []
    },
    {
      "cell_type": "markdown",
      "metadata": {
        "id": "AcIqCAPVfCPh",
        "colab_type": "text"
      },
      "source": [
        "**読み込んだ画像(配列データ)の確認**"
      ]
    },
    {
      "cell_type": "code",
      "metadata": {
        "id": "M2K_PK8aVyfJ",
        "colab_type": "code",
        "colab": {}
      },
      "source": [
        "print(x_train[5])      # （データは32×32で、それぞれにRGB値(0-255)が格納されている）"
      ],
      "execution_count": 0,
      "outputs": []
    },
    {
      "cell_type": "markdown",
      "metadata": {
        "id": "4tqKWjZkfmCQ",
        "colab_type": "text"
      },
      "source": [
        "**読み込んだ画像(配列データ)の正規化**\n",
        "\n",
        "<font color=red>特徴量のスケールを揃えるため、データを正規化する。</font>（0-255のRGB値を255で割り算して、0-1の値に正規化する）"
      ]
    },
    {
      "cell_type": "code",
      "metadata": {
        "id": "QM5OCXTg3Z9u",
        "colab_type": "code",
        "colab": {}
      },
      "source": [
        "x_train = x_train.astype('float32') / 255    # 学習用の画像データ\n",
        "x_test = x_test.astype('float32') / 255    #テスト用の画像データ\n",
        "print(x_train[5])      # 一応、確認"
      ],
      "execution_count": 0,
      "outputs": []
    },
    {
      "cell_type": "markdown",
      "metadata": {
        "id": "QJA8n-OLfC5d",
        "colab_type": "text"
      },
      "source": [
        "**分類ラベルのデータ変換** \\\\\n",
        "機械学習に適用させるため、ラベルデータをone-hotベクトルに変換（取りあえず作法と考えていただいてOKです） \\\\\n",
        "例)ラベルは番号で格納されている(carは1、frogは6とか。これをone-hot表現(以下のようなもの)に変換する \\\\\n",
        ">\"1\"　→　[0,1,0,0,0,0,0,0,0,0] \\\\\n",
        ">”6”　→　[0,0,0,0,0,0,1,0,0,0]　　※0,1,2,3,4,5,6の順なので7個めに1がたつ\n"
      ]
    },
    {
      "cell_type": "code",
      "metadata": {
        "id": "TCM-xge_4pKQ",
        "colab_type": "code",
        "colab": {}
      },
      "source": [
        "from keras.utils.np_utils import to_categorical  # Kerasのto_categorical()を使って変換\n",
        "y_train = to_categorical(y_train, 10)\n",
        "y_test = to_categorical(y_test, 10)\n",
        "print(y_train[0])"
      ],
      "execution_count": 0,
      "outputs": []
    },
    {
      "cell_type": "markdown",
      "metadata": {
        "id": "hu51t-m0ht-D",
        "colab_type": "text"
      },
      "source": [
        "\n",
        "\n",
        "---\n",
        "\n"
      ]
    },
    {
      "cell_type": "markdown",
      "metadata": {
        "id": "jaTZ83u3cbcq",
        "colab_type": "text"
      },
      "source": [
        "## **学習モデルの構築**"
      ]
    },
    {
      "cell_type": "markdown",
      "metadata": {
        "id": "9wsZRyjwqbWZ",
        "colab_type": "text"
      },
      "source": [
        "**モデルを構築**"
      ]
    },
    {
      "cell_type": "code",
      "metadata": {
        "id": "d3uGWNF7kuF-",
        "colab_type": "code",
        "colab": {}
      },
      "source": [
        "from keras.models import Sequential    # ライブラリのインポート\n",
        "from keras.layers import Dense, Dropout, Activation, Conv2D, MaxPooling2D, Flatten\n",
        "from keras.optimizers import Adam\n",
        "\n",
        "model = Sequential()    # インスタンス作成（Sequentialモデル。シンプルで一般的なモデル）\n",
        "\n",
        "# CNNの1層目レイヤー\n",
        "model.add(Conv2D(32, kernel_size=(3, 3), activation='relu' , padding='same', input_shape=(32,32,3)))    # 畳み込みの入力層\n",
        "model.add(Conv2D(32, kernel_size=(3, 3), activation='relu'))  # 畳み込み層を追加\n",
        "model.add(MaxPooling2D(pool_size=(2, 2)))  # MaxPooling層を追加\n",
        "model.add(Dropout(0.25))  # ドロップアウト層を追加（過学習の防止）\n",
        "\n",
        "# 2層目\n",
        "model.add(Conv2D(64, kernel_size=(3, 3), activation='relu' , padding='same'))\n",
        "model.add(Conv2D(64, kernel_size=(3, 3), activation='relu'))\n",
        "model.add(MaxPooling2D(pool_size=(2, 2)))\n",
        "model.add(Dropout(0.25))\n",
        "\n",
        "# 出力層\n",
        "model.add(Flatten())     # 入力を平準化\n",
        "model.add(Dense(512))    # 全結合層を追加\n",
        "model.add(Activation('relu'))\n",
        "model.add(Dropout(0.5))  # ドロップアウト層を追加（過学習の防止）\n",
        "model.add(Dense(10))     # 出力層を追加\n",
        "model.add(Activation('softmax'))"
      ],
      "execution_count": 0,
      "outputs": []
    },
    {
      "cell_type": "markdown",
      "metadata": {
        "id": "W4RD-_Xbqpw5",
        "colab_type": "text"
      },
      "source": [
        "**モデルを学習**\n",
        "\n",
        "※CPUだとエポック10で30分ちょいかかる。。。ちなみにGPUだと2分かからなかった。"
      ]
    },
    {
      "cell_type": "code",
      "metadata": {
        "id": "z1R-b2MiqX8o",
        "colab_type": "code",
        "colab": {}
      },
      "source": [
        "model.compile(loss='categorical_crossentropy', \n",
        "              optimizer=Adam(lr=0.001), \n",
        "              metrics=['accuracy'])\n",
        "fit = model.fit(x_train, y_train,    # 訓練用入力データ\n",
        "              batch_size=128,        # バッチサイズ(同時計算するサンプル数)\n",
        "              epochs=10,             # エポック(学習のサイクル数) 10->2\n",
        "              verbose=1,             # 結果の出力\n",
        "              validation_split=0.1   # ホールドアウト検証として使うデータの割合\n",
        "                )"
      ],
      "execution_count": 0,
      "outputs": []
    },
    {
      "cell_type": "markdown",
      "metadata": {
        "id": "CddsB-KJkI35",
        "colab_type": "text"
      },
      "source": [
        "**作成したモデルを保存**"
      ]
    },
    {
      "cell_type": "code",
      "metadata": {
        "id": "EC7Y5RAQ5Uc0",
        "colab_type": "code",
        "colab": {}
      },
      "source": [
        "model.save('MyNet_cifar10.h5')"
      ],
      "execution_count": 0,
      "outputs": []
    },
    {
      "cell_type": "markdown",
      "metadata": {
        "id": "jugqOnFukO_e",
        "colab_type": "text"
      },
      "source": [
        "＜参考＞モデルの可視化"
      ]
    },
    {
      "cell_type": "code",
      "metadata": {
        "id": "LV7HUoysFw2L",
        "colab_type": "code",
        "colab": {}
      },
      "source": [
        "from IPython.display import SVG\n",
        "from keras.utils.vis_utils import model_to_dot\n",
        "SVG(model_to_dot(model).create(prog='dot', format='svg'))     # モデルの可視化"
      ],
      "execution_count": 0,
      "outputs": []
    },
    {
      "cell_type": "markdown",
      "metadata": {
        "id": "7nIJ3_U11Byc",
        "colab_type": "text"
      },
      "source": [
        "**作成したモデルの精度を確認**"
      ]
    },
    {
      "cell_type": "code",
      "metadata": {
        "id": "BsCQDqtP1MMF",
        "colab_type": "code",
        "colab": {}
      },
      "source": [
        "score = model.evaluate(x_test, y_test,verbose=0)     # 損失値の計算\n",
        "#print('Test score:', score[0])       # 損失値(1-損失値)\n",
        "print('正解率（accuracy）:', score[1])    # 正確さ"
      ],
      "execution_count": 0,
      "outputs": []
    },
    {
      "cell_type": "code",
      "metadata": {
        "id": "4MVlUDPJ5VNi",
        "colab_type": "code",
        "colab": {}
      },
      "source": [
        "# 学習経過をプロット\n",
        "import matplotlib.pyplot as plt \n",
        "plt.figure(figsize=(10,5),dpi=100)\n",
        "plt.plot(range(1, 11), fit.history['acc'], label=\"training\")         # epocに応じて変更range 11 \n",
        "plt.plot(range(1, 11), fit.history['val_acc'], label=\"validation\")   # epocに応じて変更range 11\n",
        "plt.xlabel('Epochs') \n",
        "plt.ylabel('Accuracy') \n",
        "plt.legend() \n",
        "plt.grid(True)\n",
        "plt.show()"
      ],
      "execution_count": 0,
      "outputs": []
    },
    {
      "cell_type": "markdown",
      "metadata": {
        "id": "_QNWKXAwdSVc",
        "colab_type": "text"
      },
      "source": [
        "### **推論（作成した学習モデルでテスト）**"
      ]
    },
    {
      "cell_type": "markdown",
      "metadata": {
        "id": "kY9oepvI_53O",
        "colab_type": "text"
      },
      "source": [
        "予めGoogleドライブに保存してある画像で推論実施（事前マウント必要）。"
      ]
    },
    {
      "cell_type": "code",
      "metadata": {
        "id": "1gvZPT3-DZ_B",
        "colab_type": "code",
        "colab": {}
      },
      "source": [
        "#---認識テスト画像の確認表示----\n",
        "import numpy as np\n",
        "from PIL import Image\n",
        "img_width = 256 ; img_height = 256\n",
        "file_path = '/content/drive/My Drive/otr_dog2.jpg'  # 読み込むファイルを指定(google drive)\n",
        "img = Image.open(file_path).convert('RGB') # Gray->L, RGB->RGB\n",
        "img = img.resize((img_width, img_height))\n",
        "x = np.array(img, dtype=np.float32)\n",
        "x = x / 255\n",
        "plt.imshow(x)\n",
        "plt.show()\n",
        "\n",
        "#---テスト画像の変換----\n",
        "from keras.preprocessing.image import img_to_array, load_img\n",
        "img = img_to_array(load_img(file_path, target_size=(32,32)))  # 読み込み\n",
        "img_nad = img_to_array(img)/255   # 0-1に変換\n",
        "img_nad = img_nad[None, ...]  # Kerasで使用する場合、最初にサンプル数のついた4次元配列に変換する(例： 1,224,224,3)\n",
        "\n",
        "#---読み込んだテスト画像で推論-----\n",
        "model.load_weights('MyNet_cifar10.h5')\n",
        "pred = model.predict(img_nad, batch_size=1, verbose=0)\n",
        "pred_score = np.max(pred)\n",
        "pred_label = np.argmax(pred)\n",
        "print('--------------------------------------')\n",
        "print('予測スコア:', pred_score * 100 , '%')       # \n",
        "print('予測ラベル:', pred_label)    # \n",
        "print('**ラベルの凡例表示**')\n",
        "print('0:airplane(飛行機)  ,  1:automobile(自動車)  ,  2:bird(鳥)  ,  3:cat(猫)  ,  4:deer(鹿)  ,  ')\n",
        "print('5:dog(犬)  ,  6:frog(カエル)  ,  7:horse(馬)  ,  8:ship(船)  ,  9:truck(トラック)')"
      ],
      "execution_count": 0,
      "outputs": []
    },
    {
      "cell_type": "code",
      "metadata": {
        "id": "i6G_Y-tRV1VF",
        "colab_type": "code",
        "colab": {}
      },
      "source": [
        "#---認識テスト画像の確認表示----\n",
        "import numpy as np\n",
        "from PIL import Image\n",
        "img_width = 256 ; img_height = 256\n",
        "file_path = '/content/drive/My Drive/fune1.jpg'  # 読み込むファイルを指定(google drive)\n",
        "img = Image.open(file_path).convert('RGB') # Gray->L, RGB->RGB\n",
        "img = img.resize((img_width, img_height))\n",
        "x = np.array(img, dtype=np.float32)\n",
        "x = x / 255\n",
        "plt.imshow(x)\n",
        "plt.show()\n",
        "\n",
        "#---テスト画像の変換----\n",
        "from keras.preprocessing.image import img_to_array, load_img\n",
        "img = img_to_array(load_img(file_path, target_size=(32,32)))  # 読み込み\n",
        "img_nad = img_to_array(img)/255   # 0-1に変換\n",
        "img_nad = img_nad[None, ...]  #4次元配列に変換\n",
        "\n",
        "#---読み込んだテスト画像で推論-----\n",
        "model.load_weights('MyNet_cifar10.h5')\n",
        "pred = model.predict(img_nad, batch_size=1, verbose=0)\n",
        "pred_score = np.max(pred)\n",
        "pred_label = np.argmax(pred)\n",
        "print('--------------------------------------')\n",
        "print('予測スコア:', pred_score * 100 , '%')       # \n",
        "print('予測ラベル:', pred_label)    # \n",
        "print('**ラベルの凡例表示**')\n",
        "print('0:airplane(飛行機)  ,  1:automobile(自動車)  ,  2:bird(鳥)  ,  3:cat(猫)  ,  4:deer(鹿)  ,  ')\n",
        "print('5:dog(犬)  ,  6:frog(カエル)  ,  7:horse(馬)  ,  8:ship(船)  ,  9:truck(トラック)')"
      ],
      "execution_count": 0,
      "outputs": []
    },
    {
      "cell_type": "code",
      "metadata": {
        "id": "1YaKO-HyBcWg",
        "colab_type": "code",
        "colab": {}
      },
      "source": [
        "#---認識テスト画像の確認表示----\n",
        "import numpy as np\n",
        "from PIL import Image\n",
        "img_width = 256 ; img_height = 256\n",
        "file_path = '/content/drive/My Drive/hikouki1.jpg'  # 読み込むファイルを指定(google drive)\n",
        "img = Image.open(file_path).convert('RGB') # Gray->L, RGB->RGB\n",
        "img = img.resize((img_width, img_height))\n",
        "x = np.array(img, dtype=np.float32)\n",
        "x = x / 255\n",
        "plt.imshow(x)\n",
        "plt.show()\n",
        "\n",
        "#---テスト画像の変換----\n",
        "from keras.preprocessing.image import img_to_array, load_img\n",
        "img = img_to_array(load_img(file_path, target_size=(32,32)))  # 読み込み\n",
        "img_nad = img_to_array(img)/255   # 0-1に変換\n",
        "img_nad = img_nad[None, ...]  #4次元配列に変換\n",
        "\n",
        "#---読み込んだテスト画像で推論-----\n",
        "model.load_weights('MyNet_cifar10.h5')\n",
        "pred = model.predict(img_nad, batch_size=1, verbose=0)\n",
        "pred_score = np.max(pred)\n",
        "pred_label = np.argmax(pred)\n",
        "print('--------------------------------------')\n",
        "print('予測スコア:', pred_score * 100 , '%')       # \n",
        "print('予測ラベル:', pred_label)    # \n",
        "print('**ラベルの凡例表示**')\n",
        "print('0:airplane(飛行機)  ,  1:automobile(自動車)  ,  2:bird(鳥)  ,  3:cat(猫)  ,  4:deer(鹿)  ,  ')\n",
        "print('5:dog(犬)  ,  6:frog(カエル)  ,  7:horse(馬)  ,  8:ship(船)  ,  9:truck(トラック)')"
      ],
      "execution_count": 0,
      "outputs": []
    },
    {
      "cell_type": "markdown",
      "metadata": {
        "id": "7IWcY8nzdyy6",
        "colab_type": "text"
      },
      "source": [
        "### （その他）メモ書きなど"
      ]
    },
    {
      "cell_type": "code",
      "metadata": {
        "id": "CL0LFnXXedoK",
        "colab_type": "code",
        "colab": {}
      },
      "source": [
        "!whoami"
      ],
      "execution_count": 0,
      "outputs": []
    }
  ]
}